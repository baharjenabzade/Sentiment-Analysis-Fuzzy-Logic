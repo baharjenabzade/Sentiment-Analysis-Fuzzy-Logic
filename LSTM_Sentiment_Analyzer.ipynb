{
  "nbformat": 4,
  "nbformat_minor": 0,
  "metadata": {
    "colab": {
      "provenance": [],
      "gpuType": "T4",
      "toc_visible": true
    },
    "kernelspec": {
      "name": "python3",
      "display_name": "Python 3"
    },
    "language_info": {
      "name": "python"
    },
    "accelerator": "GPU"
  },
  "cells": [
    {
      "cell_type": "code",
      "execution_count": null,
      "metadata": {
        "id": "tqhuWvUMdktO"
      },
      "outputs": [],
      "source": [
        "import pandas as pd\n",
        "import numpy as np\n",
        "import tensorflow as tf\n"
      ]
    },
    {
      "cell_type": "code",
      "source": [
        "from sklearn.model_selection import train_test_split\n",
        "from termcolor import colored"
      ],
      "metadata": {
        "id": "KQvas9m1eK1Y"
      },
      "execution_count": null,
      "outputs": []
    },
    {
      "cell_type": "code",
      "source": [
        "from google.colab import files\n",
        "uploaded = files.upload()"
      ],
      "metadata": {
        "colab": {
          "base_uri": "https://localhost:8080/",
          "height": 73
        },
        "id": "yoDOMYevfUA0",
        "outputId": "8e314c53-ae9d-487b-8947-52128d9f090f"
      },
      "execution_count": null,
      "outputs": [
        {
          "output_type": "display_data",
          "data": {
            "text/plain": [
              "<IPython.core.display.HTML object>"
            ],
            "text/html": [
              "\n",
              "     <input type=\"file\" id=\"files-f9c46849-6901-435c-a1fb-4dd4d2e5cec6\" name=\"files[]\" multiple disabled\n",
              "        style=\"border:none\" />\n",
              "     <output id=\"result-f9c46849-6901-435c-a1fb-4dd4d2e5cec6\">\n",
              "      Upload widget is only available when the cell has been executed in the\n",
              "      current browser session. Please rerun this cell to enable.\n",
              "      </output>\n",
              "      <script>// Copyright 2017 Google LLC\n",
              "//\n",
              "// Licensed under the Apache License, Version 2.0 (the \"License\");\n",
              "// you may not use this file except in compliance with the License.\n",
              "// You may obtain a copy of the License at\n",
              "//\n",
              "//      http://www.apache.org/licenses/LICENSE-2.0\n",
              "//\n",
              "// Unless required by applicable law or agreed to in writing, software\n",
              "// distributed under the License is distributed on an \"AS IS\" BASIS,\n",
              "// WITHOUT WARRANTIES OR CONDITIONS OF ANY KIND, either express or implied.\n",
              "// See the License for the specific language governing permissions and\n",
              "// limitations under the License.\n",
              "\n",
              "/**\n",
              " * @fileoverview Helpers for google.colab Python module.\n",
              " */\n",
              "(function(scope) {\n",
              "function span(text, styleAttributes = {}) {\n",
              "  const element = document.createElement('span');\n",
              "  element.textContent = text;\n",
              "  for (const key of Object.keys(styleAttributes)) {\n",
              "    element.style[key] = styleAttributes[key];\n",
              "  }\n",
              "  return element;\n",
              "}\n",
              "\n",
              "// Max number of bytes which will be uploaded at a time.\n",
              "const MAX_PAYLOAD_SIZE = 100 * 1024;\n",
              "\n",
              "function _uploadFiles(inputId, outputId) {\n",
              "  const steps = uploadFilesStep(inputId, outputId);\n",
              "  const outputElement = document.getElementById(outputId);\n",
              "  // Cache steps on the outputElement to make it available for the next call\n",
              "  // to uploadFilesContinue from Python.\n",
              "  outputElement.steps = steps;\n",
              "\n",
              "  return _uploadFilesContinue(outputId);\n",
              "}\n",
              "\n",
              "// This is roughly an async generator (not supported in the browser yet),\n",
              "// where there are multiple asynchronous steps and the Python side is going\n",
              "// to poll for completion of each step.\n",
              "// This uses a Promise to block the python side on completion of each step,\n",
              "// then passes the result of the previous step as the input to the next step.\n",
              "function _uploadFilesContinue(outputId) {\n",
              "  const outputElement = document.getElementById(outputId);\n",
              "  const steps = outputElement.steps;\n",
              "\n",
              "  const next = steps.next(outputElement.lastPromiseValue);\n",
              "  return Promise.resolve(next.value.promise).then((value) => {\n",
              "    // Cache the last promise value to make it available to the next\n",
              "    // step of the generator.\n",
              "    outputElement.lastPromiseValue = value;\n",
              "    return next.value.response;\n",
              "  });\n",
              "}\n",
              "\n",
              "/**\n",
              " * Generator function which is called between each async step of the upload\n",
              " * process.\n",
              " * @param {string} inputId Element ID of the input file picker element.\n",
              " * @param {string} outputId Element ID of the output display.\n",
              " * @return {!Iterable<!Object>} Iterable of next steps.\n",
              " */\n",
              "function* uploadFilesStep(inputId, outputId) {\n",
              "  const inputElement = document.getElementById(inputId);\n",
              "  inputElement.disabled = false;\n",
              "\n",
              "  const outputElement = document.getElementById(outputId);\n",
              "  outputElement.innerHTML = '';\n",
              "\n",
              "  const pickedPromise = new Promise((resolve) => {\n",
              "    inputElement.addEventListener('change', (e) => {\n",
              "      resolve(e.target.files);\n",
              "    });\n",
              "  });\n",
              "\n",
              "  const cancel = document.createElement('button');\n",
              "  inputElement.parentElement.appendChild(cancel);\n",
              "  cancel.textContent = 'Cancel upload';\n",
              "  const cancelPromise = new Promise((resolve) => {\n",
              "    cancel.onclick = () => {\n",
              "      resolve(null);\n",
              "    };\n",
              "  });\n",
              "\n",
              "  // Wait for the user to pick the files.\n",
              "  const files = yield {\n",
              "    promise: Promise.race([pickedPromise, cancelPromise]),\n",
              "    response: {\n",
              "      action: 'starting',\n",
              "    }\n",
              "  };\n",
              "\n",
              "  cancel.remove();\n",
              "\n",
              "  // Disable the input element since further picks are not allowed.\n",
              "  inputElement.disabled = true;\n",
              "\n",
              "  if (!files) {\n",
              "    return {\n",
              "      response: {\n",
              "        action: 'complete',\n",
              "      }\n",
              "    };\n",
              "  }\n",
              "\n",
              "  for (const file of files) {\n",
              "    const li = document.createElement('li');\n",
              "    li.append(span(file.name, {fontWeight: 'bold'}));\n",
              "    li.append(span(\n",
              "        `(${file.type || 'n/a'}) - ${file.size} bytes, ` +\n",
              "        `last modified: ${\n",
              "            file.lastModifiedDate ? file.lastModifiedDate.toLocaleDateString() :\n",
              "                                    'n/a'} - `));\n",
              "    const percent = span('0% done');\n",
              "    li.appendChild(percent);\n",
              "\n",
              "    outputElement.appendChild(li);\n",
              "\n",
              "    const fileDataPromise = new Promise((resolve) => {\n",
              "      const reader = new FileReader();\n",
              "      reader.onload = (e) => {\n",
              "        resolve(e.target.result);\n",
              "      };\n",
              "      reader.readAsArrayBuffer(file);\n",
              "    });\n",
              "    // Wait for the data to be ready.\n",
              "    let fileData = yield {\n",
              "      promise: fileDataPromise,\n",
              "      response: {\n",
              "        action: 'continue',\n",
              "      }\n",
              "    };\n",
              "\n",
              "    // Use a chunked sending to avoid message size limits. See b/62115660.\n",
              "    let position = 0;\n",
              "    do {\n",
              "      const length = Math.min(fileData.byteLength - position, MAX_PAYLOAD_SIZE);\n",
              "      const chunk = new Uint8Array(fileData, position, length);\n",
              "      position += length;\n",
              "\n",
              "      const base64 = btoa(String.fromCharCode.apply(null, chunk));\n",
              "      yield {\n",
              "        response: {\n",
              "          action: 'append',\n",
              "          file: file.name,\n",
              "          data: base64,\n",
              "        },\n",
              "      };\n",
              "\n",
              "      let percentDone = fileData.byteLength === 0 ?\n",
              "          100 :\n",
              "          Math.round((position / fileData.byteLength) * 100);\n",
              "      percent.textContent = `${percentDone}% done`;\n",
              "\n",
              "    } while (position < fileData.byteLength);\n",
              "  }\n",
              "\n",
              "  // All done.\n",
              "  yield {\n",
              "    response: {\n",
              "      action: 'complete',\n",
              "    }\n",
              "  };\n",
              "}\n",
              "\n",
              "scope.google = scope.google || {};\n",
              "scope.google.colab = scope.google.colab || {};\n",
              "scope.google.colab._files = {\n",
              "  _uploadFiles,\n",
              "  _uploadFilesContinue,\n",
              "};\n",
              "})(self);\n",
              "</script> "
            ]
          },
          "metadata": {}
        },
        {
          "output_type": "stream",
          "name": "stdout",
          "text": [
            "Saving FinalizedFull.csv to FinalizedFull.csv\n"
          ]
        }
      ]
    },
    {
      "cell_type": "code",
      "source": [
        "df = pd.read_csv(\"FinalizedFull.csv\", encoding = 'latin-1')"
      ],
      "metadata": {
        "id": "hyRtI3ubfju7"
      },
      "execution_count": null,
      "outputs": []
    },
    {
      "cell_type": "code",
      "source": [
        "print(df.head(5))"
      ],
      "metadata": {
        "colab": {
          "base_uri": "https://localhost:8080/"
        },
        "id": "9_JMWwqkgCL9",
        "outputId": "2e342ad8-67e1-4870-e6b1-5c684540a9a8"
      },
      "execution_count": null,
      "outputs": [
        {
          "output_type": "stream",
          "name": "stdout",
          "text": [
            "                                               tweet  senti\n",
            "0  @united UA5396 can wait for me. I'm on the gro...      0\n",
            "1  I hate Time Warner! Soooo wish I had Vios. Can...      0\n",
            "2  @united Oh, we are sure it's not planned, but ...      0\n",
            "3  Tom Shanahan's latest column on SDSU and its N...      2\n",
            "4           Found the self driving car!! /IWo3QSvdu2      2\n"
          ]
        }
      ]
    },
    {
      "cell_type": "code",
      "source": [
        "from sklearn.feature_extraction.text import CountVectorizer\n",
        "from keras.preprocessing.text import Tokenizer"
      ],
      "metadata": {
        "id": "iKa_OI8rgzfc"
      },
      "execution_count": null,
      "outputs": []
    },
    {
      "cell_type": "code",
      "source": [
        "from keras.utils import pad_sequences\n",
        "from keras.models import Sequential\n",
        "from keras.layers import Dense, Embedding, LSTM, SpatialDropout1D\n",
        "from sklearn.model_selection import train_test_split\n",
        "import re"
      ],
      "metadata": {
        "id": "nty5Bj07hkDr"
      },
      "execution_count": null,
      "outputs": []
    },
    {
      "cell_type": "code",
      "source": [
        "def pre_process(tweet):\n",
        "  removelist = \"\"\n",
        "  tweet = re.sub('[^a-zA-z0-9\\s]','',tweet)\n",
        "  tweet = re.sub(r'@','',tweet)\n",
        "  tweet = re.sub(r'#([^\\s]+)', r'\\1', tweet)\n",
        "  tweet = re.sub(r'((www\\.[^\\s]+)|(https?://[^\\s]+))','',tweet)\n",
        "  #tweet = re.sub(r'[^w'+removelist+']', ' ',tweet)\n",
        "  tweet = tweet.lower()\n",
        "  return tweet\n",
        "df['tweet'] = df['tweet'].apply(pre_process)\n",
        "print(df.tweet)"
      ],
      "metadata": {
        "id": "T67CwYOsh4Ak",
        "colab": {
          "base_uri": "https://localhost:8080/"
        },
        "outputId": "a0ef77b9-2f70-4822-c121-c1359868054d"
      },
      "execution_count": null,
      "outputs": [
        {
          "output_type": "stream",
          "name": "stdout",
          "text": [
            "0      united ua5396 can wait for me im on the ground...\n",
            "1      i hate time warner soooo wish i had vios cant ...\n",
            "2      united oh we are sure its not planned but it o...\n",
            "3      tom shanahans latest column on sdsu and its nc...\n",
            "4                  found the self driving car iwo3qsvdu2\n",
            "                             ...                        \n",
            "992    the day i never have to deal with comcast agai...\n",
            "993    wish i could catch every mosquito in the world...\n",
            "994    stopped to have lunch at mcdonalds chicken nug...\n",
            "995    super investors a great weekend read here from...\n",
            "996    boomboxhearts  im having dinner with older fri...\n",
            "Name: tweet, Length: 997, dtype: object\n"
          ]
        }
      ]
    },
    {
      "cell_type": "code",
      "source": [
        "import nltk\n",
        "nltk.download('stopwords')\n",
        "from nltk.corpus import stopwords\n",
        "stop_words = set(stopwords.words('english'))\n",
        "df['tweet'] = df['tweet'].apply(lambda x: ' '.join([word for word in x.split() if word not in (stop_words)]))\n",
        "print(df.tweet)"
      ],
      "metadata": {
        "colab": {
          "base_uri": "https://localhost:8080/"
        },
        "id": "vitbYQlzj-kN",
        "outputId": "30ed9757-1cce-4ed9-ae19-0fcc82d4a543"
      },
      "execution_count": null,
      "outputs": [
        {
          "output_type": "stream",
          "name": "stdout",
          "text": [
            "0      united ua5396 wait im ground trying get gate m...\n",
            "1      hate time warner soooo wish vios cant watch fr...\n",
            "2      united oh sure planned occurs absolutely consi...\n",
            "3      tom shanahans latest column sdsu ncaa baseball...\n",
            "4                      found self driving car iwo3qsvdu2\n",
            "                             ...                        \n",
            "992       day never deal comcast rank one best days life\n",
            "993    wish could catch every mosquito world n burn e...\n",
            "994    stopped lunch mcdonalds chicken nuggetssss yum...\n",
            "995    super investors great weekend read warren buff...\n",
            "996    boomboxhearts im dinner older friends like 3 h...\n",
            "Name: tweet, Length: 997, dtype: object\n"
          ]
        },
        {
          "output_type": "stream",
          "name": "stderr",
          "text": [
            "[nltk_data] Downloading package stopwords to /root/nltk_data...\n",
            "[nltk_data]   Unzipping corpora/stopwords.zip.\n"
          ]
        }
      ]
    },
    {
      "cell_type": "code",
      "source": [
        "nltk.download('wordnet')\n",
        "w_tokenizer = nltk.tokenize.WhitespaceTokenizer()\n",
        "lemmatizer = nltk.stem.WordNetLemmatizer()\n",
        "def lemmatize_text(text):\n",
        "    st = \"\"\n",
        "    for w in w_tokenizer.tokenize(text):\n",
        "        st = st + lemmatizer.lemmatize(w) + \" \"\n",
        "    return st\n",
        "df['tweet'] = df.tweet.apply(lemmatize_text)\n"
      ],
      "metadata": {
        "id": "xReD6EtvmbND",
        "colab": {
          "base_uri": "https://localhost:8080/"
        },
        "outputId": "a4e453b6-d01f-47ee-ed8b-ddb06d864fa9"
      },
      "execution_count": null,
      "outputs": [
        {
          "output_type": "stream",
          "name": "stderr",
          "text": [
            "[nltk_data] Downloading package wordnet to /root/nltk_data...\n"
          ]
        }
      ]
    },
    {
      "cell_type": "code",
      "source": [
        "nltk.download('wordnet')"
      ],
      "metadata": {
        "colab": {
          "base_uri": "https://localhost:8080/"
        },
        "id": "RXWMBU-Jm28R",
        "outputId": "159bfb80-c384-4d8e-d417-0e2c0c360a7a"
      },
      "execution_count": null,
      "outputs": [
        {
          "output_type": "stream",
          "name": "stderr",
          "text": [
            "[nltk_data] Downloading package wordnet to /root/nltk_data...\n",
            "[nltk_data]   Package wordnet is already up-to-date!\n"
          ]
        },
        {
          "output_type": "execute_result",
          "data": {
            "text/plain": [
              "True"
            ]
          },
          "metadata": {},
          "execution_count": 12
        }
      ]
    },
    {
      "cell_type": "code",
      "source": [
        "\n",
        "from sklearn.preprocessing import LabelEncoder\n",
        "reviews = df.tweet\n",
        "labels = df.senti\n",
        "encoder = LabelEncoder()\n",
        "encoded_labels = encoder.fit_transform(labels)\n",
        "print(encoded_labels)"
      ],
      "metadata": {
        "colab": {
          "base_uri": "https://localhost:8080/"
        },
        "id": "PdwOxY1LnV5i",
        "outputId": "e0100215-d219-4c7c-9b3c-9d52119b78b2"
      },
      "execution_count": null,
      "outputs": [
        {
          "output_type": "stream",
          "name": "stdout",
          "text": [
            "[0 0 0 1 1 0 0 2 2 1 1 0 1 0 1 2 0 0 2 0 2 0 2 2 1 2 1 0 1 2 2 2 1 1 1 1 1\n",
            " 1 0 0 2 2 1 2 2 2 2 1 2 1 1 0 2 2 2 2 0 1 2 1 0 0 2 0 1 0 0 2 1 0 2 1 1 1\n",
            " 0 0 2 0 1 2 2 1 2 2 1 0 2 0 1 0 1 2 1 1 2 2 1 2 1 2 2 0 1 1 1 0 1 0 1 1 0\n",
            " 0 0 0 2 1 0 2 1 0 0 2 2 0 0 2 2 0 0 1 2 1 0 2 0 2 2 0 2 0 2 2 2 2 2 1 0 1\n",
            " 1 0 1 2 2 2 0 2 0 2 0 1 2 2 0 0 0 2 0 2 2 0 0 0 2 2 1 0 2 1 2 0 2 1 2 0 1\n",
            " 1 1 2 2 2 2 1 2 2 2 0 1 2 0 2 0 1 2 0 0 2 2 0 0 2 2 1 1 0 2 1 2 2 2 0 1 0\n",
            " 1 0 0 2 0 1 1 0 0 2 2 0 2 0 2 2 1 2 1 0 0 0 0 0 2 1 0 0 0 1 2 2 0 2 2 2 0\n",
            " 1 2 2 0 1 2 0 2 2 2 2 2 1 0 2 2 1 0 1 1 0 1 2 0 2 2 1 0 1 2 2 2 2 0 2 1 0\n",
            " 2 0 1 0 2 0 1 1 0 1 2 0 0 2 0 2 2 2 0 1 2 2 0 2 2 2 1 2 1 2 0 2 1 0 2 1 2\n",
            " 1 2 0 2 0 0 2 0 2 0 0 2 0 0 0 0 2 2 1 0 1 0 0 1 0 2 2 2 1 2 0 1 2 1 0 2 0\n",
            " 2 2 2 1 0 0 2 0 0 2 0 2 0 1 0 0 0 1 1 0 0 1 0 0 0 0 0 2 2 0 2 2 2 1 0 0 1\n",
            " 2 2 0 2 2 0 1 1 1 2 0 0 0 1 2 2 0 1 1 2 2 2 1 2 0 2 2 0 1 2 1 1 2 0 0 0 0\n",
            " 0 1 0 2 2 1 2 2 2 0 2 2 1 1 0 2 1 2 0 0 2 2 2 0 1 2 2 2 0 0 0 2 1 0 2 1 1\n",
            " 1 1 0 1 0 0 0 2 0 0 2 2 0 0 0 2 0 2 0 2 2 2 0 1 2 2 0 0 0 0 0 0 2 0 2 2 0\n",
            " 1 2 0 1 1 2 0 2 2 2 0 1 2 2 0 1 0 0 2 2 2 1 2 0 2 0 1 0 0 1 2 2 1 0 0 2 0\n",
            " 0 2 2 0 2 1 0 2 0 1 2 1 2 2 2 0 2 0 1 0 0 2 1 0 1 2 0 2 0 0 2 2 1 2 2 0 2\n",
            " 1 0 2 0 2 0 2 0 0 2 1 2 2 2 2 0 2 2 0 2 1 1 2 2 0 2 2 1 0 2 2 0 0 0 2 1 1\n",
            " 0 2 0 0 2 0 0 0 1 2 0 2 0 0 0 0 2 1 0 0 2 0 0 1 0 2 2 0 0 0 2 0 1 0 2 1 1\n",
            " 2 2 0 2 2 1 1 1 2 0 2 1 2 0 2 2 1 2 2 0 1 0 0 2 2 0 1 2 0 2 0 0 1 0 1 2 2\n",
            " 1 2 2 2 1 1 2 1 2 0 0 0 0 2 2 0 1 0 0 1 2 1 0 0 0 0 2 2 0 1 2 2 2 2 0 1 1\n",
            " 0 2 2 1 0 0 1 1 1 2 1 2 2 0 1 2 0 0 1 1 0 2 0 2 2 0 0 2 0 0 0 0 1 2 0 2 2\n",
            " 0 1 2 0 1 1 0 0 0 0 0 2 2 2 2 0 0 1 0 2 0 0 1 2 1 2 0 0 2 2 1 0 1 1 2 0 2\n",
            " 0 2 2 0 2 1 0 2 1 0 0 1 1 0 2 2 1 0 1 0 0 1 2 1 0 1 0 1 0 0 0 0 0 0 2 0 0\n",
            " 2 2 1 2 0 1 0 0 0 2 0 2 0 0 0 2 1 1 0 0 0 2 0 1 1 0 2 2 0 0 2 1 2 2 0 0 2\n",
            " 2 2 0 2 0 0 0 0 1 1 0 0 0 1 2 1 1 2 1 1 2 0 0 2 0 2 0 2 2 1 2 0 0 2 1 0 1\n",
            " 2 0 0 2 2 0 2 1 1 2 0 2 2 2 1 1 1 2 0 1 2 1 0 2 0 2 2 2 1 0 0 1 1 0 0 0 0\n",
            " 2 2 1 2 2 1 1 1 1 2 0 1 0 2 0 0 0 0 1 0 2 1 2 1 1 2 0 0 2 2 0 0 2 2 0]\n"
          ]
        }
      ]
    },
    {
      "cell_type": "code",
      "source": [
        "X_train, X_test, y_train, y_test = train_test_split(reviews, encoded_labels, test_size = 0.20, random_state = 100)\n",
        "print(X_train.shape)"
      ],
      "metadata": {
        "id": "FY0FvLTUpydJ",
        "colab": {
          "base_uri": "https://localhost:8080/"
        },
        "outputId": "32a812dc-9338-4c45-8648-ad05d77f2be3"
      },
      "execution_count": null,
      "outputs": [
        {
          "output_type": "stream",
          "name": "stdout",
          "text": [
            "(797,)\n"
          ]
        }
      ]
    },
    {
      "cell_type": "code",
      "source": [
        "vocab_size = 5000 # choose based on statistics\n",
        "oov_tok = ''\n",
        "embedding_dim = 100\n",
        "max_length = 200 # choose based on statistics, for example 150 to 200\n",
        "padding_type='post'\n",
        "trunc_type='post'\n",
        "# tokenize sentences\n",
        "tokenizer = Tokenizer(num_words = vocab_size, oov_token=oov_tok)\n",
        "tokenizer.fit_on_texts(X_train)\n",
        "word_index = tokenizer.word_index\n",
        "# convert train dataset to sequence and pad sequences\n",
        "train_sequences = tokenizer.texts_to_sequences(X_train)\n",
        "train_padded = pad_sequences(train_sequences, padding='post', maxlen=max_length)\n",
        "# convert Test dataset to sequence and pad sequences\n",
        "test_sequences = tokenizer.texts_to_sequences(X_test)\n",
        "test_padded = pad_sequences(test_sequences, padding='post', maxlen=max_length)"
      ],
      "metadata": {
        "id": "kpPwWn_vpvpp"
      },
      "execution_count": null,
      "outputs": []
    },
    {
      "cell_type": "code",
      "source": [
        "import keras\n",
        "# model initialization\n",
        "model = keras.Sequential([\n",
        "    keras.layers.Embedding(vocab_size, embedding_dim, input_length=max_length),\n",
        "    keras.layers.Bidirectional(keras.layers.LSTM(64)),\n",
        "    keras.layers.Dense(24, activation='relu'),\n",
        "    keras.layers.Dense(3, activation='sigmoid')\n",
        "])\n",
        "# compile model\n",
        "model.compile(loss='sparse_categorical_crossentropy',\n",
        "              optimizer='adam',\n",
        "              metrics=['accuracy'])\n",
        "# model summary\n",
        "model.summary()"
      ],
      "metadata": {
        "colab": {
          "base_uri": "https://localhost:8080/"
        },
        "id": "CGsVgYw8r-bI",
        "outputId": "4fd82d87-7561-4904-a82d-7f037c678dbd"
      },
      "execution_count": null,
      "outputs": [
        {
          "output_type": "stream",
          "name": "stdout",
          "text": [
            "Model: \"sequential\"\n",
            "_________________________________________________________________\n",
            " Layer (type)                Output Shape              Param #   \n",
            "=================================================================\n",
            " embedding (Embedding)       (None, 200, 100)          500000    \n",
            "                                                                 \n",
            " bidirectional (Bidirection  (None, 128)               84480     \n",
            " al)                                                             \n",
            "                                                                 \n",
            " dense (Dense)               (None, 24)                3096      \n",
            "                                                                 \n",
            " dense_1 (Dense)             (None, 3)                 75        \n",
            "                                                                 \n",
            "=================================================================\n",
            "Total params: 587651 (2.24 MB)\n",
            "Trainable params: 587651 (2.24 MB)\n",
            "Non-trainable params: 0 (0.00 Byte)\n",
            "_________________________________________________________________\n"
          ]
        }
      ]
    },
    {
      "cell_type": "code",
      "source": [
        "num_epochs = 10\n",
        "history = model.fit(train_padded, y_train,\n",
        "                    epochs=num_epochs, verbose=1,\n",
        "                    validation_split=0.1)"
      ],
      "metadata": {
        "colab": {
          "base_uri": "https://localhost:8080/"
        },
        "id": "JlxT9Of-sUNp",
        "outputId": "6086fc81-a105-42e1-8448-d035aaa4fbf9"
      },
      "execution_count": null,
      "outputs": [
        {
          "output_type": "stream",
          "name": "stdout",
          "text": [
            "Epoch 1/10\n",
            "23/23 [==============================] - 1s 32ms/step - loss: 0.0057 - accuracy: 0.9986 - val_loss: 1.2808 - val_accuracy: 0.6750\n",
            "Epoch 2/10\n",
            "23/23 [==============================] - 1s 41ms/step - loss: 0.0036 - accuracy: 1.0000 - val_loss: 1.3192 - val_accuracy: 0.6875\n",
            "Epoch 3/10\n",
            "23/23 [==============================] - 1s 41ms/step - loss: 0.0026 - accuracy: 1.0000 - val_loss: 1.3631 - val_accuracy: 0.6875\n",
            "Epoch 4/10\n",
            "23/23 [==============================] - 1s 25ms/step - loss: 0.0023 - accuracy: 1.0000 - val_loss: 1.4029 - val_accuracy: 0.6875\n",
            "Epoch 5/10\n",
            "23/23 [==============================] - 1s 40ms/step - loss: 0.0017 - accuracy: 1.0000 - val_loss: 1.4387 - val_accuracy: 0.6750\n",
            "Epoch 6/10\n",
            "23/23 [==============================] - 1s 32ms/step - loss: 0.0012 - accuracy: 1.0000 - val_loss: 1.4697 - val_accuracy: 0.6875\n",
            "Epoch 7/10\n",
            "23/23 [==============================] - 1s 24ms/step - loss: 9.7320e-04 - accuracy: 1.0000 - val_loss: 1.4992 - val_accuracy: 0.6750\n",
            "Epoch 8/10\n",
            "23/23 [==============================] - 1s 38ms/step - loss: 8.6774e-04 - accuracy: 1.0000 - val_loss: 1.5685 - val_accuracy: 0.6500\n",
            "Epoch 9/10\n",
            "23/23 [==============================] - 1s 48ms/step - loss: 0.0019 - accuracy: 1.0000 - val_loss: 1.5602 - val_accuracy: 0.6750\n",
            "Epoch 10/10\n",
            "23/23 [==============================] - 1s 38ms/step - loss: 0.0010 - accuracy: 1.0000 - val_loss: 1.5525 - val_accuracy: 0.6500\n"
          ]
        }
      ]
    },
    {
      "cell_type": "code",
      "source": [
        "from sklearn.metrics import classification_report\n",
        "from sklearn.metrics import accuracy_score"
      ],
      "metadata": {
        "id": "n7hJyQeZblC3"
      },
      "execution_count": null,
      "outputs": []
    },
    {
      "cell_type": "code",
      "source": [
        "result = model.evaluate(test_padded, y_test)"
      ],
      "metadata": {
        "colab": {
          "base_uri": "https://localhost:8080/"
        },
        "id": "yJ_-yNC8iZKR",
        "outputId": "10e9880d-b23d-43c2-9cf7-3388bdd05871"
      },
      "execution_count": null,
      "outputs": [
        {
          "output_type": "stream",
          "name": "stdout",
          "text": [
            "7/7 [==============================] - 0s 13ms/step - loss: 1.1748 - accuracy: 0.7200\n"
          ]
        }
      ]
    },
    {
      "cell_type": "code",
      "source": [
        "y_pred = model.predict(test_padded)\n",
        "print(X_train , y_train)\n",
        "print(y_pred)"
      ],
      "metadata": {
        "colab": {
          "base_uri": "https://localhost:8080/"
        },
        "id": "QJZ-62ioB-HP",
        "outputId": "d3336aca-9f26-45ca-b9ea-16453ab4206c"
      },
      "execution_count": null,
      "outputs": [
        {
          "output_type": "stream",
          "name": "stdout",
          "text": [
            "7/7 [==============================] - 0s 12ms/step\n",
            "159    click link want flight info havent booked flig...\n",
            "500                         need selfdriving car google \n",
            "402    goodby silverstein agency new site httpwwwgood...\n",
            "551    republican party bunch antiabortion zealot cou...\n",
            "25     omg would died actually take backi keep update...\n",
            "                             ...                        \n",
            "855               jdreiss oh yes gm dy worth boo hahaha \n",
            "871    north korea please cease douchebaggery china d...\n",
            "835    rt justindavey rt tweetmeme gm onstar instantl...\n",
            "792                     finally work back fucking wreck \n",
            "520         last day work go holiday argh got fuck load \n",
            "Name: tweet, Length: 797, dtype: object [1 2 2 0 2 0 2 0 1 1 2 0 2 1 1 0 0 0 2 2 1 0 1 0 2 2 2 0 2 1 2 0 1 2 1 0 0\n",
            " 1 2 0 0 1 0 1 0 2 0 1 0 2 1 0 1 0 2 2 0 2 1 1 0 1 2 2 0 0 2 2 2 0 1 1 2 2\n",
            " 2 2 0 2 1 2 2 2 2 0 2 2 0 1 1 1 0 0 0 2 2 2 0 0 1 1 1 2 1 2 0 1 0 2 2 1 0\n",
            " 0 2 2 2 0 0 0 1 0 1 2 0 2 0 0 1 2 0 1 2 2 0 0 1 0 2 0 2 2 2 2 2 1 0 0 0 2\n",
            " 1 2 2 1 2 2 2 0 0 0 0 0 1 2 1 2 0 1 2 1 0 0 2 0 0 0 1 1 1 2 0 0 2 2 0 0 0\n",
            " 1 0 1 1 1 2 2 0 0 1 0 0 2 0 1 1 1 0 2 0 0 2 2 2 0 1 1 2 2 2 2 0 2 0 1 0 2\n",
            " 2 1 2 2 2 1 0 1 1 0 2 0 2 1 2 2 2 0 2 0 0 2 0 0 0 2 2 1 2 1 1 2 0 2 1 0 1\n",
            " 1 0 0 0 1 1 2 1 0 0 2 0 0 0 0 2 0 0 1 0 1 0 2 0 2 0 2 0 2 0 1 0 1 2 0 2 2\n",
            " 2 0 1 0 2 1 1 0 2 2 2 2 2 2 0 1 2 1 2 2 2 2 0 2 2 1 1 0 1 2 2 0 1 2 2 2 0\n",
            " 0 0 1 0 2 0 1 0 2 1 0 2 1 0 0 2 2 2 2 0 1 1 1 0 1 0 0 0 2 0 1 0 0 1 2 1 2\n",
            " 0 2 0 0 2 2 0 0 2 2 0 0 2 2 2 2 0 1 2 1 2 1 0 0 1 2 1 0 0 2 2 0 1 0 2 2 0\n",
            " 2 0 2 0 0 0 0 1 0 2 2 2 2 2 2 1 2 2 0 0 2 2 1 2 1 2 0 1 2 2 0 0 0 2 2 2 0\n",
            " 0 0 0 1 1 1 0 2 0 0 2 0 1 1 1 0 1 0 1 1 1 2 1 1 2 0 1 2 2 1 2 2 2 2 2 0 1\n",
            " 1 2 2 0 2 1 2 2 0 0 0 2 2 0 0 2 0 0 0 2 2 1 0 0 0 2 2 2 0 2 0 0 0 2 1 1 2\n",
            " 0 1 0 2 1 1 0 0 1 0 1 0 0 0 1 0 2 2 1 1 0 0 2 2 0 2 2 0 2 0 0 0 0 0 0 1 0\n",
            " 2 0 2 2 2 1 2 0 2 2 1 0 0 2 2 1 0 0 1 0 2 0 0 2 2 0 0 2 0 2 1 0 2 2 1 2 2\n",
            " 0 0 2 0 1 2 0 0 2 2 1 2 1 0 1 0 2 2 1 0 1 0 0 0 0 2 0 1 1 0 2 2 2 0 1 0 0\n",
            " 2 2 2 0 1 2 2 2 0 0 0 1 0 0 2 1 2 0 2 0 1 2 1 0 1 1 2 1 0 1 0 2 2 1 0 2 0\n",
            " 2 2 0 1 2 0 2 0 2 1 1 0 1 2 0 2 2 2 2 0 1 2 2 0 1 2 1 2 2 2 0 1 0 2 1 0 1\n",
            " 1 0 2 1 2 1 1 0 0 0 2 2 0 2 1 1 0 2 2 2 0 2 0 1 2 2 2 2 2 0 1 0 0 1 0 2 1\n",
            " 0 1 2 2 2 0 2 2 2 1 2 2 0 1 2 2 0 2 1 1 2 0 2 1 1 0 0 2 0 2 1 2 0 0 0 2 1\n",
            " 1 2 1 2 2 2 1 0 2 2 2 2 1 1 2 0 0 1 0 0]\n",
            "[[0.986169   0.30649167 0.05620209]\n",
            " [0.62916744 0.8646694  0.96823347]\n",
            " [0.95958173 0.17094962 0.89995766]\n",
            " [0.99372697 0.19549356 0.03470879]\n",
            " [0.99932766 0.02468742 0.00657251]\n",
            " [0.9971444  0.03316724 0.05120118]\n",
            " [0.9506765  0.1595211  0.9594124 ]\n",
            " [0.9918607  0.03498946 0.44700822]\n",
            " [0.38080695 0.72841734 0.9999763 ]\n",
            " [0.47248456 0.7579657  0.9998752 ]\n",
            " [0.38339677 0.72919863 0.9998654 ]\n",
            " [0.9992644  0.02774742 0.00552679]\n",
            " [0.9914619  0.06665335 0.34427112]\n",
            " [0.69971293 0.96266115 0.45618632]\n",
            " [0.48035944 0.9839361  0.7878565 ]\n",
            " [0.99896324 0.04403162 0.00549711]\n",
            " [0.8502613  0.92584074 0.19544666]\n",
            " [0.9926623  0.08348234 0.24178013]\n",
            " [0.62774235 0.88612664 0.9442762 ]\n",
            " [0.2993831  0.8611096  0.99996924]\n",
            " [0.18439578 0.99787164 0.7856399 ]\n",
            " [0.17298466 0.9928392  0.990617  ]\n",
            " [0.9430021  0.1763018  0.95429695]\n",
            " [0.37398568 0.7653714  0.9999918 ]\n",
            " [0.96763915 0.5546345  0.15952061]\n",
            " [0.3244997  0.8925213  0.99909973]\n",
            " [0.9996039  0.00915041 0.00672671]\n",
            " [0.7092683  0.81455624 0.9532469 ]\n",
            " [0.8968997  0.7345658  0.59216046]\n",
            " [0.28972527 0.8552158  0.9999212 ]\n",
            " [0.88973904 0.90924037 0.10852441]\n",
            " [0.35782987 0.97453463 0.98206055]\n",
            " [0.72616094 0.9361827  0.69497436]\n",
            " [0.9992213  0.02674951 0.00573306]\n",
            " [0.99397695 0.04399268 0.30317512]\n",
            " [0.9996525  0.01324256 0.00401628]\n",
            " [0.62226236 0.99407613 0.06026025]\n",
            " [0.89826286 0.3971309  0.9416967 ]\n",
            " [0.99669003 0.09879201 0.02407628]\n",
            " [0.49685955 0.7133655  0.9998878 ]\n",
            " [0.998998   0.0341564  0.00606947]\n",
            " [0.99762875 0.06168901 0.01580764]\n",
            " [0.94502896 0.5981929  0.4335767 ]\n",
            " [0.99766785 0.05053527 0.03352722]\n",
            " [0.6592015  0.4553804  0.99918383]\n",
            " [0.9929045  0.22253811 0.03397627]\n",
            " [0.9975968  0.05349191 0.02708428]\n",
            " [0.99105537 0.14732791 0.09004623]\n",
            " [0.9983966  0.03459083 0.01335954]\n",
            " [0.7224239  0.7914367  0.9679424 ]\n",
            " [0.9713199  0.23232172 0.70545715]\n",
            " [0.99411005 0.07386531 0.14705499]\n",
            " [0.99932694 0.02210929 0.0059638 ]\n",
            " [0.9946583  0.1399802  0.05244652]\n",
            " [0.3402813  0.9627082  0.9873969 ]\n",
            " [0.8027767  0.6258285  0.9769744 ]\n",
            " [0.7427699  0.7112065  0.9775934 ]\n",
            " [0.99976426 0.00859982 0.00350559]\n",
            " [0.97164685 0.24527812 0.56235313]\n",
            " [0.9887489  0.2629398  0.06976755]\n",
            " [0.9962759  0.03556127 0.0944711 ]\n",
            " [0.9519962  0.11387055 0.96225256]\n",
            " [0.62805367 0.97582906 0.5490669 ]\n",
            " [0.70036834 0.9725505  0.340301  ]\n",
            " [0.6873157  0.9847801  0.17580515]\n",
            " [0.27502316 0.99547786 0.74283504]\n",
            " [0.4848587  0.9694736  0.92098653]\n",
            " [0.9993642  0.02402457 0.00464653]\n",
            " [0.8540946  0.7711684  0.74103284]\n",
            " [0.9576427  0.20482436 0.8063033 ]\n",
            " [0.9994411  0.02547279 0.00466417]\n",
            " [0.36738276 0.98414433 0.9155539 ]\n",
            " [0.9992131  0.01453914 0.01066174]\n",
            " [0.5926844  0.672893   0.9979595 ]\n",
            " [0.39747092 0.6846699  0.99995387]\n",
            " [0.95207566 0.26236832 0.7960684 ]\n",
            " [0.9987633  0.03551854 0.01206936]\n",
            " [0.9908648  0.13572755 0.19007175]\n",
            " [0.9336692  0.7361005  0.29222044]\n",
            " [0.13317284 0.9882825  0.99946564]\n",
            " [0.99950624 0.01538693 0.00554297]\n",
            " [0.29102397 0.96361434 0.99218047]\n",
            " [0.33864728 0.7908009  0.99990976]\n",
            " [0.99929917 0.01143224 0.01224165]\n",
            " [0.94302434 0.5634657  0.33353028]\n",
            " [0.976992   0.49158755 0.06159251]\n",
            " [0.979194   0.36566827 0.10522301]\n",
            " [0.99948007 0.01351589 0.00616096]\n",
            " [0.9993222  0.02357098 0.00546543]\n",
            " [0.9984668  0.04371578 0.01069413]\n",
            " [0.9915895  0.08269926 0.18138587]\n",
            " [0.69738615 0.6069051  0.9947718 ]\n",
            " [0.9929426  0.21803115 0.04485283]\n",
            " [0.96589345 0.50481814 0.23327443]\n",
            " [0.99120915 0.15329726 0.11086074]\n",
            " [0.7896451  0.8653537  0.94025433]\n",
            " [0.22806218 0.992761   0.9540633 ]\n",
            " [0.42224059 0.6796605  0.9999186 ]\n",
            " [0.2713062  0.9869943  0.9625626 ]\n",
            " [0.989419   0.15314133 0.18450658]\n",
            " [0.9882824  0.6000223  0.01032178]\n",
            " [0.9995678  0.01720567 0.00429064]\n",
            " [0.99014854 0.05288454 0.44793352]\n",
            " [0.7782082  0.8287157  0.8094976 ]\n",
            " [0.99494946 0.07617871 0.09131736]\n",
            " [0.9048459  0.3390284  0.9592521 ]\n",
            " [0.853157   0.9577983  0.06022224]\n",
            " [0.56529146 0.9770661  0.64464366]\n",
            " [0.99886596 0.02616003 0.01126945]\n",
            " [0.5134815  0.7735743  0.99841917]\n",
            " [0.9800657  0.4356465  0.08900277]\n",
            " [0.53988886 0.87861276 0.99200714]\n",
            " [0.6684812  0.6155508  0.9957339 ]\n",
            " [0.9997656  0.01074018 0.00295644]\n",
            " [0.99925345 0.01762099 0.00978833]\n",
            " [0.5751121  0.6470856  0.99939835]\n",
            " [0.7301013  0.97121483 0.2724704 ]\n",
            " [0.9986712  0.0125115  0.03420609]\n",
            " [0.65179414 0.8934056  0.9409139 ]\n",
            " [0.9992055  0.019403   0.00798763]\n",
            " [0.97797066 0.27582723 0.28925392]\n",
            " [0.8315518  0.24412365 0.9979588 ]\n",
            " [0.6630336  0.5169645  0.99922776]\n",
            " [0.9991381  0.01878235 0.00937953]\n",
            " [0.95689034 0.4709084  0.3296158 ]\n",
            " [0.9646014  0.5745247  0.22363038]\n",
            " [0.6470248  0.45555627 0.9991248 ]\n",
            " [0.9866174  0.2888072  0.07537191]\n",
            " [0.35156482 0.7681998  0.99983263]\n",
            " [0.99479586 0.02242426 0.25663146]\n",
            " [0.9953204  0.17787878 0.0152771 ]\n",
            " [0.6694691  0.9410025  0.7870031 ]\n",
            " [0.9987232  0.03960313 0.00818254]\n",
            " [0.9936907  0.18174933 0.03091113]\n",
            " [0.95501477 0.42656547 0.5375379 ]\n",
            " [0.99936134 0.01931874 0.00639974]\n",
            " [0.9232633  0.449305   0.90787774]\n",
            " [0.9998504  0.00661399 0.0026741 ]\n",
            " [0.9549884  0.3604071  0.80826336]\n",
            " [0.99264693 0.19539909 0.03506706]\n",
            " [0.9899159  0.27057633 0.07345104]\n",
            " [0.24042723 0.99384487 0.9808452 ]\n",
            " [0.60390365 0.9313466  0.90185267]\n",
            " [0.9653148  0.34110558 0.66556025]\n",
            " [0.3797856  0.7356894  0.99996996]\n",
            " [0.9320968  0.51574236 0.56247354]\n",
            " [0.19482422 0.93763983 0.9997615 ]\n",
            " [0.9083771  0.8435082  0.16866049]\n",
            " [0.7619153  0.8678443  0.8678985 ]\n",
            " [0.23437774 0.9991443  0.19332936]\n",
            " [0.993363   0.17257467 0.04458044]\n",
            " [0.41188914 0.99548596 0.37681487]\n",
            " [0.16013604 0.99789006 0.9448258 ]\n",
            " [0.99721706 0.07850967 0.01591863]\n",
            " [0.8881517  0.93799967 0.06588906]\n",
            " [0.99343973 0.03844842 0.3209243 ]\n",
            " [0.7622758  0.8203265  0.9072182 ]\n",
            " [0.35428056 0.77075577 0.9999635 ]\n",
            " [0.95193464 0.6595904  0.20294006]\n",
            " [0.976985   0.07076348 0.756959  ]\n",
            " [0.24371013 0.9660374  0.9996075 ]\n",
            " [0.99919623 0.03052743 0.00546952]\n",
            " [0.35488984 0.76188374 0.9999424 ]\n",
            " [0.42283875 0.9829889  0.88415146]\n",
            " [0.99950194 0.01465557 0.00511288]\n",
            " [0.87860805 0.42869082 0.9547317 ]\n",
            " [0.49405807 0.90323013 0.98707294]\n",
            " [0.9990742  0.01764376 0.01401326]\n",
            " [0.9867178  0.29019263 0.09274173]\n",
            " [0.99832815 0.04887712 0.01043922]\n",
            " [0.24571167 0.99850106 0.34699854]\n",
            " [0.5640816  0.85426885 0.9914374 ]\n",
            " [0.9987998  0.04496545 0.00663904]\n",
            " [0.35932052 0.9576783  0.9939867 ]\n",
            " [0.99871147 0.01961932 0.0280953 ]\n",
            " [0.991536   0.20093879 0.05219536]\n",
            " [0.6963108  0.4461528  0.9973852 ]\n",
            " [0.54391736 0.519412   0.9999273 ]\n",
            " [0.9168242  0.88497543 0.09556445]\n",
            " [0.93963236 0.80049974 0.09989572]\n",
            " [0.9992878  0.03647374 0.00428485]\n",
            " [0.9987061  0.03812501 0.00980702]\n",
            " [0.8088936  0.95847076 0.1727056 ]\n",
            " [0.9733155  0.5418359  0.09502683]\n",
            " [0.99321496 0.17650476 0.07124119]\n",
            " [0.88691044 0.7983899  0.3992445 ]\n",
            " [0.98333216 0.2796816  0.21480086]\n",
            " [0.999458   0.01717223 0.00567028]\n",
            " [0.4687823  0.9909148  0.49655268]\n",
            " [0.93635553 0.5854255  0.54833645]\n",
            " [0.9966376  0.10591087 0.02154583]\n",
            " [0.9952544  0.01929994 0.24753533]\n",
            " [0.9994259  0.01643363 0.00600528]\n",
            " [0.96126527 0.61087424 0.16413215]\n",
            " [0.9954513  0.14860632 0.02036005]\n",
            " [0.998697   0.0474119  0.00876792]\n",
            " [0.9561438  0.6631065  0.11305004]\n",
            " [0.95489377 0.19420008 0.8476978 ]\n",
            " [0.786212   0.8893095  0.5783234 ]\n",
            " [0.9305465  0.75195485 0.20879936]]\n"
          ]
        }
      ]
    },
    {
      "cell_type": "code",
      "source": [
        "!pip install -U scikit-fuzzy\n",
        "import skfuzzy as fuzz"
      ],
      "metadata": {
        "id": "cFHs_QjHAXCk",
        "colab": {
          "base_uri": "https://localhost:8080/"
        },
        "outputId": "494f7361-b840-4546-dd0f-1597875624ce"
      },
      "execution_count": null,
      "outputs": [
        {
          "output_type": "stream",
          "name": "stdout",
          "text": [
            "Collecting scikit-fuzzy\n",
            "  Downloading scikit-fuzzy-0.4.2.tar.gz (993 kB)\n",
            "\u001b[2K     \u001b[90m━━━━━━━━━━━━━━━━━━━━━━━━━━━━━━━━━━━━━━━━\u001b[0m \u001b[32m994.0/994.0 kB\u001b[0m \u001b[31m4.8 MB/s\u001b[0m eta \u001b[36m0:00:00\u001b[0m\n",
            "\u001b[?25h  Preparing metadata (setup.py) ... \u001b[?25l\u001b[?25hdone\n",
            "Requirement already satisfied: numpy>=1.6.0 in /usr/local/lib/python3.10/dist-packages (from scikit-fuzzy) (1.25.2)\n",
            "Requirement already satisfied: scipy>=0.9.0 in /usr/local/lib/python3.10/dist-packages (from scikit-fuzzy) (1.11.4)\n",
            "Requirement already satisfied: networkx>=1.9.0 in /usr/local/lib/python3.10/dist-packages (from scikit-fuzzy) (3.3)\n",
            "Building wheels for collected packages: scikit-fuzzy\n",
            "  Building wheel for scikit-fuzzy (setup.py) ... \u001b[?25l\u001b[?25hdone\n",
            "  Created wheel for scikit-fuzzy: filename=scikit_fuzzy-0.4.2-py3-none-any.whl size=894078 sha256=9771ad54d236bc93cd675b035c99b0a19a8f782344393270be1df45da1478f00\n",
            "  Stored in directory: /root/.cache/pip/wheels/4f/86/1b/dfd97134a2c8313e519bcebd95d3fedc7be7944db022094bc8\n",
            "Successfully built scikit-fuzzy\n",
            "Installing collected packages: scikit-fuzzy\n",
            "Successfully installed scikit-fuzzy-0.4.2\n"
          ]
        }
      ]
    },
    {
      "cell_type": "code",
      "source": [
        "input1_positive = np.arange(0,1,0.1)\n",
        "input2_negative = np.arange(0,1,0.1)\n",
        "sentiment_output = np.arange(0,10,1)"
      ],
      "metadata": {
        "id": "oxmcWpr6AdqB"
      },
      "execution_count": null,
      "outputs": []
    },
    {
      "cell_type": "code",
      "source": [
        "#triangular membership function for positive input\n",
        "pos_low = fuzz.trapmf(input1_positive, [0,0,0.4,0.6])\n",
        "#trapezoid membership function for medium positive input\n",
        "pos_med = fuzz.trapmf(input1_positive, [0,0.4,0.5,1])\n",
        "#trapezoid membership function for high positive input\n",
        "pos_high = fuzz.trapmf(input1_positive, [0.5,0.55,1,1])\n",
        "#triangular membership function for low negative input\n",
        "neg_low = fuzz.trapmf(input2_negative, [0,0,0.2,0.3])\n",
        "#trapezoid membership function for medium negative input\n",
        "neg_med = fuzz.trapmf(input2_negative, [0,0.3,0.5,1])\n",
        "#trapezoid membership function for high negative input\n",
        "neg_high = fuzz.trapmf(input2_negative, [0.5,0.55,1,1])\n",
        "\n",
        "\n",
        "op_neg = fuzz.trapmf(sentiment_output, [0,0,0,5])\n",
        "op_neu = fuzz.trapmf(sentiment_output, [0,5,5,10])\n",
        "op_pos = fuzz.trapmf(sentiment_output, [5,5,5,10])"
      ],
      "metadata": {
        "id": "mRoaJNugBizN"
      },
      "execution_count": null,
      "outputs": []
    },
    {
      "cell_type": "code",
      "source": [
        "sentiment = []\n",
        "for i in range(len(test_padded)):\n",
        "  pos_score = y_pred[i][2]\n",
        "\n",
        "  neg_score = y_pred[i][0]\n",
        "  if pos_score > neg_score:\n",
        "    neg_score = 1 - pos_score\n",
        "  else:\n",
        "    pos_score = 1 - neg_score\n",
        "\n",
        "  p_level_lo = fuzz.interp_membership(input1_positive, positive_low, pos_score)\n",
        "  p_level_md = fuzz.interp_membership(input1_positive, positive_medium, pos_score)\n",
        "  p_level_hi = fuzz.interp_membership(input1_positive, positive_high, pos_score)\n",
        "\n",
        "  n_level_lo = fuzz.interp_membership(input2_negative, negative_low, neg_score)\n",
        "  n_level_md = fuzz.interp_membership(input2_negative, negative_medium, neg_score)\n",
        "  n_level_hi = fuzz.interp_membership(input2_negative, negative_high, neg_score)\n",
        "  active_rule1 = np.fmin(p_level_lo, n_level_lo)\n",
        "  active_rule2 = np.fmin(p_level_md, n_level_lo)\n",
        "  active_rule3 = np.fmin(p_level_hi, n_level_lo)\n",
        "  active_rule4 = np.fmin(p_level_lo, n_level_md)\n",
        "  active_rule5 = np.fmin(p_level_md, n_level_md)\n",
        "  active_rule6 = np.fmin(p_level_hi, n_level_md)\n",
        "  active_rule7 = np.fmin(p_level_lo, n_level_hi)\n",
        "  active_rule8 = np.fmin(p_level_md, n_level_hi)\n",
        "  active_rule9 = np.fmin(p_level_hi, n_level_hi)\n",
        "\n",
        "  n1=np.fmax(active_rule4,active_rule7)\n",
        "  n2=np.fmax(n1,active_rule8)\n",
        "  op_activation_lo = np.fmin(n2,negative_output)\n",
        "\n",
        "  neu1=np.fmax(active_rule1,active_rule5)\n",
        "  neu2=np.fmax(neu1,active_rule9)\n",
        "  op_activation_md = np.fmin(neu2,neutral_output)\n",
        "\n",
        "  p1=np.fmax(active_rule2,active_rule3)\n",
        "  p2=np.fmax(p1,active_rule6)\n",
        "  op_activation_hi = np.fmin(p2,positive_output)\n",
        "\n",
        "  op0 = np.zeros_like(sentiment_output)\n",
        "\n",
        "    # Aggregate all three output membership functions together\n",
        "  aggregated = np.fmax(op_activation_lo,\n",
        "                         np.fmax(op_activation_md, op_activation_hi))\n",
        "\n",
        "    # Calculate defuzzified result\n",
        "  op = fuzz.defuzz(sentiment_output, aggregated, 'lom')\n",
        "  if 0<=(op)<=3.33:    # R\n",
        "        #print(\"\\nOutput after Defuzzification: Negative\")\n",
        "        sentiment.append(0)\n",
        "\n",
        "  elif 3.34<=(op)<=6.66:\n",
        "        #print(\"\\nOutput after Defuzzification: Neutral\")\n",
        "        sentiment.append(1)\n",
        "\n",
        "  elif 6.67<=(op)<=10:\n",
        "        #print(\"\\nOutput after Defuzzification: Positive\")\n",
        "        sentiment.append(2)\n"
      ],
      "metadata": {
        "id": "kpVMJsHPBvqb"
      },
      "execution_count": null,
      "outputs": []
    },
    {
      "cell_type": "code",
      "source": [
        "from sklearn.metrics import f1_score, precision_score, recall_score, accuracy_score\n",
        "\n",
        "y_true = y_test\n",
        "y_pred = sentiment\n",
        "print(y_test)\n",
        "print(y_pred)\n",
        "acc=accuracy_score(y_true, y_pred)\n",
        "print(\"Accuracy score:\",str(round(acc*100,3)))"
      ],
      "metadata": {
        "colab": {
          "base_uri": "https://localhost:8080/"
        },
        "id": "fqZzuNupD0ve",
        "outputId": "74adeaf2-d5c9-45c6-ab25-5a9dd635a70f"
      },
      "execution_count": null,
      "outputs": [
        {
          "output_type": "stream",
          "name": "stdout",
          "text": [
            "[1 2 2 0 0 0 2 2 1 2 2 0 2 1 2 0 0 0 2 2 1 1 2 2 0 2 0 2 0 2 1 1 1 0 0 0 1\n",
            " 2 0 2 0 0 0 0 2 1 0 0 2 2 0 0 0 0 2 2 2 0 2 0 0 2 1 1 2 1 1 0 1 2 0 1 0 2\n",
            " 2 2 0 0 0 1 0 2 2 2 1 0 2 0 0 0 1 2 0 2 0 2 0 2 1 2 0 0 0 2 0 0 0 0 0 2 1\n",
            " 0 2 0 0 2 1 2 1 0 0 2 2 0 0 2 2 0 2 2 0 1 0 1 0 0 2 0 0 0 0 2 2 2 2 1 2 2\n",
            " 1 1 0 1 2 0 1 0 2 2 0 2 2 1 2 1 0 1 2 0 0 0 1 2 0 1 0 2 2 2 1 1 0 0 1 1 0\n",
            " 1 2 0 1 0 0 2 0 0 0 0 1 2 1 1]\n",
            "[2, 2, 2, 2, 2, 2, 2, 2, 2, 2, 2, 2, 2, 1, 2, 2, 0, 2, 2, 2, 2, 2, 2, 2, 2, 2, 2, 2, 0, 2, 0, 2, 2, 2, 2, 2, 1, 2, 2, 2, 2, 2, 2, 2, 2, 2, 2, 2, 2, 2, 2, 2, 2, 2, 2, 2, 2, 2, 2, 2, 2, 2, 1, 2, 1, 2, 2, 2, 0, 2, 2, 2, 2, 2, 2, 2, 2, 2, 2, 2, 2, 2, 2, 2, 2, 2, 2, 2, 2, 2, 2, 2, 2, 2, 2, 2, 2, 2, 2, 2, 2, 2, 2, 2, 2, 2, 0, 1, 2, 2, 2, 2, 2, 2, 2, 2, 2, 2, 2, 2, 2, 2, 2, 2, 2, 2, 2, 2, 2, 2, 2, 2, 2, 2, 2, 2, 2, 2, 2, 2, 2, 2, 2, 2, 2, 2, 2, 2, 2, 2, 2, 1, 2, 2, 0, 2, 2, 2, 2, 2, 2, 2, 2, 2, 2, 2, 2, 2, 2, 2, 1, 2, 2, 2, 2, 2, 2, 2, 2, 2, 2, 2, 0, 2, 2, 0, 2, 2, 1, 2, 2, 2, 2, 2, 2, 2, 2, 2, 0, 2]\n",
            "Accuracy score: 39.5\n"
          ]
        }
      ]
    }
  ]
}